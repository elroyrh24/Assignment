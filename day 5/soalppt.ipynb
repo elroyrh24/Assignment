{
 "cells": [
  {
   "cell_type": "code",
   "execution_count": 8,
   "metadata": {},
   "outputs": [
    {
     "name": "stdout",
     "output_type": "stream",
     "text": [
      "Minimum value = 1\n",
      "Maximum value = 89\n"
     ]
    }
   ],
   "source": [
    "Numbers = [41, 5, 1, 3, 89, 32]\n",
    "maxie = 0\n",
    "minie = 10\n",
    "for n in Numbers:\n",
    "    if n > maxie:\n",
    "        maxie = n\n",
    "    if n < minie:\n",
    "        minie = n\n",
    "\n",
    "print(f\"Minimum value = {minie}\\nMaximum value = {maxie}\")"
   ]
  },
  {
   "cell_type": "code",
   "execution_count": 15,
   "metadata": {},
   "outputs": [
    {
     "name": "stdout",
     "output_type": "stream",
     "text": [
      "List Sebelum Di Sort = [41, 5, 1, 3, 89, 32]\n",
      "List Setelah Di Sort = [1, 3, 5, 32, 41, 89]\n"
     ]
    }
   ],
   "source": [
    "preSort = [41, 5, 1, 3, 89, 32]\n",
    "postSort = list()\n",
    "print(f\"List Sebelum Di Sort = {preSort}\")\n",
    "for n in range(len(preSort)):\n",
    "    postSort.append(preSort.pop(preSort.index(min(preSort))))\n",
    "\n",
    "print(f\"List Setelah Di Sort = {postSort}\")\n"
   ]
  }
 ],
 "metadata": {
  "kernelspec": {
   "display_name": "Python 3",
   "language": "python",
   "name": "python3"
  },
  "language_info": {
   "codemirror_mode": {
    "name": "ipython",
    "version": 3
   },
   "file_extension": ".py",
   "mimetype": "text/x-python",
   "name": "python",
   "nbconvert_exporter": "python",
   "pygments_lexer": "ipython3",
   "version": "3.11.4"
  },
  "orig_nbformat": 4
 },
 "nbformat": 4,
 "nbformat_minor": 2
}
