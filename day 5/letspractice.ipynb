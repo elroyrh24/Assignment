{
 "cells": [
  {
   "cell_type": "code",
   "execution_count": 41,
   "metadata": {},
   "outputs": [],
   "source": [
    "def getSmallest(numbers):\n",
    "    if len(numbers) > 0:\n",
    "        minie = 10000\n",
    "        for n in numbers:\n",
    "            if n < minie:\n",
    "                minie = n\n",
    "        return minie\n",
    "    else:\n",
    "        return None\n",
    "\n",
    "assert getSmallest([1, 2, 3]) == 1\n",
    "assert getSmallest([3, 2, 1]) == 1\n",
    "assert getSmallest([28, 25, 42, 2, 28]) == 2\n",
    "assert getSmallest([1]) == 1\n",
    "assert getSmallest([]) == None"
   ]
  },
  {
   "cell_type": "code",
   "execution_count": 42,
   "metadata": {},
   "outputs": [
    {
     "name": "stdout",
     "output_type": "stream",
     "text": [
      "[('a', 1), ('d', 2), ('b', 3), ('c', 5)]\n"
     ]
    }
   ],
   "source": [
    "nums = (('a', 1), ('b', 3), ('c', 5), ('d', 2))\n",
    "\n",
    "def sortTuple(tuple):\n",
    "    print(str(sorted(tuple, key = lambda x: x[1])))\n",
    "\n",
    "sortTuple(nums)"
   ]
  },
  {
   "cell_type": "code",
   "execution_count": 93,
   "metadata": {},
   "outputs": [
    {
     "data": {
      "text/plain": [
       "[0, 1]"
      ]
     },
     "execution_count": 93,
     "metadata": {},
     "output_type": "execute_result"
    }
   ],
   "source": [
    "nums = [2, 7, 11, 15] \n",
    "target = 9\n",
    "\n",
    "def findIndex(listy, equal):\n",
    "    result = []\n",
    "    for i, val in enumerate(listy):\n",
    "        if (equal - val) in nums:\n",
    "            result.append(i)\n",
    "    return result\n",
    "\n",
    "findIndex(nums, target)"
   ]
  },
  {
   "cell_type": "code",
   "execution_count": 44,
   "metadata": {},
   "outputs": [
    {
     "data": {
      "text/plain": [
       "[7, 0, 8]"
      ]
     },
     "execution_count": 44,
     "metadata": {},
     "output_type": "execute_result"
    }
   ],
   "source": [
    "l1 = [2, 4, 3]\n",
    "l2 = [5, 6, 4]\n",
    "\n",
    "\n",
    "def addList(li, lu):\n",
    "    l1num = ''\n",
    "    l2num = ''\n",
    "    l4num = []\n",
    "    for l in reversed(li):\n",
    "        l1num += str(l)\n",
    "    for g in reversed(lu):\n",
    "        l2num += str(g)\n",
    "    l3num = [int(v) for v in str(int(l1num) + int(l2num))]\n",
    "    for l4 in reversed(l3num):\n",
    "        l4num.append(l4)\n",
    "    return l4num\n",
    "addList(l1, l2)"
   ]
  },
  {
   "cell_type": "code",
   "execution_count": 82,
   "metadata": {},
   "outputs": [
    {
     "data": {
      "text/plain": [
       "[[1, 2], [3, 10], [12, 16]]"
      ]
     },
     "execution_count": 82,
     "metadata": {},
     "output_type": "execute_result"
    }
   ],
   "source": [
    "\n",
    "l1 = [[1, 2], [3, 5], [6, 7], [8, 10], [12, 16]] \n",
    "l2 = [4, 8]\n",
    "\n",
    "def insertList(listone, listtwo):\n",
    "    new, i = [], 0\n",
    "    for i, val in enumerate(listone):\n",
    "        if val[1] < l2[0]:\n",
    "            new += val\n",
    "        elif val[0] > l2[1]:\n",
    "            i -= 1\n",
    "            break\n",
    "        else:\n",
    "            l2[0] = min(val[0], l2[0])  \n",
    "            l2[1] = max(val[1], l2[1])\n",
    "    \n",
    "    return [new] + [l2] + l1[i + 1:]\n",
    "\n",
    "\n",
    "\n",
    "insertList(l1, l2)\n",
    "\n"
   ]
  },
  {
   "cell_type": "code",
   "execution_count": 78,
   "metadata": {},
   "outputs": [],
   "source": [
    "def mergeTwoLists(list1, list2):\n",
    "    list3 = []\n",
    "    res = []\n",
    "    for item in list1:\n",
    "        list3.append(item)\n",
    "    for item in list2:\n",
    "        list3.append(item)\n",
    "    for n in range(len(list3)):\n",
    "        res.append(list3.pop(list3.index(min(list3))))\n",
    "    return res\n",
    "\n",
    "assert mergeTwoLists([1, 3, 6], [5, 7, 8, 9]) == [1, 3, 5, 6, 7, 8, 9]\n",
    "assert mergeTwoLists([4, 5], [1, 2, 3]) == [1, 2, 3, 4, 5]\n",
    "assert mergeTwoLists([2, 2, 2], [2, 2, 2]) == [2, 2, 2, 2, 2, 2]\n",
    "assert mergeTwoLists([], [1, 2, 3]) == [1, 2, 3]"
   ]
  },
  {
   "cell_type": "code",
   "execution_count": 92,
   "metadata": {},
   "outputs": [],
   "source": [
    "import random\n",
    "\n",
    "LOWER_LETTERS = 'abcdefghijklmnopqrstuvwxyz'\n",
    "UPPER_LETTERS = 'ABCDEFGHIJKLMNOPQRSTUVWXYZ'\n",
    "NUMBERS = '1234567890'\n",
    "SPECIAL = '~!@#$%^&*()_+'\n",
    "ALL_CHARS = LOWER_LETTERS + UPPER_LETTERS + SPECIAL + NUMBERS\n",
    "\n",
    "def generatePassword(num):\n",
    "    if num < 12:\n",
    "        num = 12\n",
    "    password = []\n",
    "    password.append(LOWER_LETTERS[random.randint(0,25)])\n",
    "    password.append(UPPER_LETTERS[random.randint(0,25)])\n",
    "    password.append(NUMBERS[random.randint(0,9)])\n",
    "    password.append(SPECIAL[random.randint(0,12)])\n",
    "\n",
    "    while len(password) < num:\n",
    "        password.append(ALL_CHARS[random.randint(0,74)])\n",
    "    \n",
    "    random.shuffle(password)\n",
    "    \n",
    "    return ' '.join(password)\n",
    "\n",
    "password = generatePassword(8)\n",
    "hasLowerCase = False\n",
    "hasUpperCase = False\n",
    "hasNumber = False\n",
    "hasSpecial = False\n",
    "\n",
    "for char in password:\n",
    "    if char in LOWER_LETTERS:\n",
    "        hasLowerCase = True\n",
    "    if char in UPPER_LETTERS:\n",
    "        hasUpperCase = True\n",
    "    if char in NUMBERS:\n",
    "        hasNumber = True\n",
    "    if char in SPECIAL:\n",
    "        hasSpecial = True\n",
    "\n",
    "assert hasLowerCase and hasUpperCase and hasNumber and hasSpecial"
   ]
  },
  {
   "cell_type": "code",
   "execution_count": 97,
   "metadata": {},
   "outputs": [
    {
     "data": {
      "text/plain": [
       "[[-2, 0, 2], [-1, -1, 2], [-1, 0, 1]]"
      ]
     },
     "execution_count": 97,
     "metadata": {},
     "output_type": "execute_result"
    }
   ],
   "source": [
    "para = [-1, 0, 1, -2, -1, 2, -4]\n",
    "\n",
    "def sumList(nums):\n",
    "    result = []\n",
    "    nums.sort() \n",
    "    for i in range(len(nums) - 2):\n",
    "        if i > 0 and nums[i] == nums[i - 1]:\n",
    "            continue  \n",
    "        left = i + 1\n",
    "        right = len(nums) - 1\n",
    "        while left < right:\n",
    "            total = nums[i] + nums[left] + nums[right]\n",
    "            if total == 0:\n",
    "                result.append([nums[i], nums[left], nums[right]])\n",
    "                while left < right and nums[left] == nums[left + 1]:\n",
    "                    left += 1  \n",
    "                while left < right and nums[right] == nums[right - 1]:\n",
    "                    right -= 1  \n",
    "                left += 1\n",
    "                right -= 1\n",
    "            elif total < 0:\n",
    "                left += 1\n",
    "            else:\n",
    "                right -= 1\n",
    "    return result\n",
    "        \n",
    "sumList(para)\n",
    "\n",
    "\n"
   ]
  }
 ],
 "metadata": {
  "kernelspec": {
   "display_name": "Python 3",
   "language": "python",
   "name": "python3"
  },
  "language_info": {
   "codemirror_mode": {
    "name": "ipython",
    "version": 3
   },
   "file_extension": ".py",
   "mimetype": "text/x-python",
   "name": "python",
   "nbconvert_exporter": "python",
   "pygments_lexer": "ipython3",
   "version": "3.11.4"
  },
  "orig_nbformat": 4
 },
 "nbformat": 4,
 "nbformat_minor": 2
}
