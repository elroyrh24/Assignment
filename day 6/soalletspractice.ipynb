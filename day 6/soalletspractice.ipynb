{
 "cells": [
  {
   "cell_type": "code",
   "execution_count": 12,
   "metadata": {},
   "outputs": [
    {
     "name": "stdout",
     "output_type": "stream",
     "text": [
      "Inventory: \n",
      "45 gold coin\n",
      "1 rope\n",
      "1 dagger\n",
      "1 ruby\n",
      "\n",
      "Total number of items: 48\n"
     ]
    }
   ],
   "source": [
    "inventory = {'gold coin': 42, 'rope': 1}\n",
    "dragonLoot = ['gold coin', 'dagger', 'gold coin', 'gold coin', 'ruby']\n",
    "\n",
    "def addToInventory(inv,addedItems):\n",
    "    amount = 0\n",
    "    totalamount = 0\n",
    "    for item in addedItems:\n",
    "        if item in inv.keys():\n",
    "            amount = inventory[item] + 1\n",
    "            inv.update({item:amount})\n",
    "        else:\n",
    "            amount2 = addedItems.count(item)\n",
    "            inv.update({item:amount2})\n",
    "    for n in inv.values():\n",
    "        totalamount += n\n",
    "    print(\"Inventory: \")\n",
    "    for thing in inv:\n",
    "        print(f\"{inv[thing]} {thing}\")\n",
    "    print(f\"\\nTotal number of items: {totalamount}\")\n",
    "\n",
    "addToInventory(inventory, dragonLoot)"
   ]
  },
  {
   "cell_type": "code",
   "execution_count": 23,
   "metadata": {},
   "outputs": [
    {
     "name": "stdout",
     "output_type": "stream",
     "text": [
      "Non-repeating character: 1\n",
      "Repeating character: r\n"
     ]
    }
   ],
   "source": [
    "text = \"123PurwadhikaHeroesHeroes\"\n",
    "\n",
    "def repeatingCount(t):\n",
    "    firstnonrepeat = ''\n",
    "    firstrepeat = ''\n",
    "    for letter in t:\n",
    "        if t.count(letter) == 1:\n",
    "            firstnonrepeat = letter\n",
    "            break\n",
    "    for huruf in t:\n",
    "        if t.count(huruf) > 1:\n",
    "            firstrepeat = huruf\n",
    "            break\n",
    "    print(f\"Non-repeating character: {firstnonrepeat}\")\n",
    "    print(f\"Repeating character: {firstrepeat}\")\n",
    "\n",
    "\n",
    "repeatingCount(text)\n"
   ]
  },
  {
   "cell_type": "code",
   "execution_count": 49,
   "metadata": {},
   "outputs": [],
   "source": [
    "vowels = set(['a','e','i','u','o'])\n",
    "\n",
    "def check(text):\n",
    "    text = text.lower()\n",
    "    text = set(text)\n",
    "    if (vowels.issubset(text)) == True:\n",
    "        return True\n",
    "    else:\n",
    "        return False\n",
    "    \n",
    "assert check('sEEquOiaL') == True\n",
    "assert check('Squ0iaL') == False\n",
    "assert check('') == False"
   ]
  },
  {
   "cell_type": "code",
   "execution_count": 63,
   "metadata": {},
   "outputs": [],
   "source": [
    "def cekHeterogram(text):\n",
    "    for letter in text:\n",
    "        if text.count(letter) > 1 and letter.isalpha() == True :\n",
    "            return False\n",
    "    return True\n",
    "\n",
    "assert cekHeterogram('purwadhika jogja') == False\n",
    "assert cekHeterogram('jcds 0210') == True\n",
    "assert cekHeterogram('  ') == True"
   ]
  },
  {
   "cell_type": "code",
   "execution_count": 67,
   "metadata": {},
   "outputs": [],
   "source": [
    "\n",
    "\n",
    "def convertInteger(num):\n",
    "    numbers = {\n",
    "    0:'0',\n",
    "    1:'1',\n",
    "    2:'2',\n",
    "    3:'3',\n",
    "    4:'4',\n",
    "    5:'5',\n",
    "    6:'6',\n",
    "    7:'7',\n",
    "    8:'8',\n",
    "    9:'9'\n",
    "    }\n",
    "    resultString = ''\n",
    "    if num == 0:\n",
    "        return '0'\n",
    "    \n",
    "    if num < 0:\n",
    "        isNegative = True\n",
    "        num = -num\n",
    "    else:\n",
    "        isNegative = False\n",
    "\n",
    "    while num > 0:\n",
    "        pts = num % 10\n",
    "        resultString = numbers[pts] + resultString\n",
    "        num //= 10\n",
    "\n",
    "    if isNegative == True:\n",
    "        return '-' + resultString\n",
    "    else:\n",
    "        return resultString\n",
    "    # for n in list(num):\n",
    "    #     if n in numbers:\n",
    "    #         for keys in numbers.keys():\n",
    "    #             if n == keys:\n",
    "    #                 resultString += numbers[keys]\n",
    "    #     else:\n",
    "    #         resultString += n\n",
    "    \n",
    "\n",
    "assert convertInteger(0) == '0'\n",
    "assert convertInteger(150) == '150'\n",
    "assert convertInteger(1935) == '1935'\n",
    "assert convertInteger(-1234) == '-1234'\n"
   ]
  },
  {
   "cell_type": "code",
   "execution_count": 2,
   "metadata": {},
   "outputs": [],
   "source": [
    "def modeValue(numbers):\n",
    "    mode = 0\n",
    "    count = 1\n",
    "    for n in numbers:\n",
    "        if numbers.count(n) > count:\n",
    "            mode = n\n",
    "            count = numbers.count(n)\n",
    "    if mode == 0:\n",
    "        return None\n",
    "    else:\n",
    "        return mode\n",
    "\n",
    "assert modeValue([]) == None\n",
    "assert modeValue([1, 2, 3, 4, 4]) == 4\n",
    "assert modeValue([1, 1, 2, 3, 4]) == 1\n",
    "assert modeValue([1.5, 1.4, 2.1, 3.3, 4.9]) == None\n"
   ]
  },
  {
   "cell_type": "markdown",
   "metadata": {},
   "source": [
    "take string\n",
    "turn into directory\n",
    "use count() on each unique value to assign number value to the key\n",
    "check if more than 1 key has a larger value than smallest value \n",
    "    if yes, return No\n",
    "    if no, return Yes\n"
   ]
  },
  {
   "cell_type": "code",
   "execution_count": 38,
   "metadata": {},
   "outputs": [],
   "source": [
    "def checkBalance(text):\n",
    "    textDict = {}\n",
    "    checkCounter = 0\n",
    "    for letter in text:\n",
    "        if letter not in textDict.keys():\n",
    "            textDict.update({letter:text.count(letter)})\n",
    "    minValue = min(textDict.values())\n",
    "    for val in textDict.values():\n",
    "        if val > minValue + 1:\n",
    "            return 'No'\n",
    "        elif val > minValue:\n",
    "            checkCounter += 1\n",
    "    if checkCounter > 1:\n",
    "        return 'No'\n",
    "    elif checkCounter <= 1:\n",
    "        return 'Yes'\n",
    "\n",
    "assert checkBalance('aa') == 'Yes'\n",
    "assert checkBalance('aabbb') == 'Yes'\n",
    "assert checkBalance('aabbbccc') == 'No'\n",
    "assert checkBalance('aabbbcccc') == 'No'     "
   ]
  }
 ],
 "metadata": {
  "kernelspec": {
   "display_name": "Python 3",
   "language": "python",
   "name": "python3"
  },
  "language_info": {
   "codemirror_mode": {
    "name": "ipython",
    "version": 3
   },
   "file_extension": ".py",
   "mimetype": "text/x-python",
   "name": "python",
   "nbconvert_exporter": "python",
   "pygments_lexer": "ipython3",
   "version": "3.11.4"
  },
  "orig_nbformat": 4
 },
 "nbformat": 4,
 "nbformat_minor": 2
}
