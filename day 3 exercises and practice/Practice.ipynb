{
 "cells": [
  {
   "cell_type": "code",
   "execution_count": 69,
   "metadata": {},
   "outputs": [
    {
     "name": "stdout",
     "output_type": "stream",
     "text": [
      "abb\n",
      "bba\n",
      "bab\n",
      "aba\n",
      "bab\n",
      "aba\n",
      "bab\n",
      "ab\n",
      "b\n",
      "Appeared 3 times\n",
      "abbababab\n"
     ]
    }
   ],
   "source": [
    "spam = input(\"spam = \")\n",
    "word = input(\"word = \")\n",
    "count = 0\n",
    "\n",
    "if (word in spam) == True:\n",
    "    for letter in range(len(spam)):\n",
    "        if spam[letter: letter+len(word)] == word:\n",
    "            count+= 1\n",
    "    print(f\"Appeared {count} times\")\n",
    "else:\n",
    "    print(\"Appeared 0 times\")"
   ]
  },
  {
   "cell_type": "code",
   "execution_count": 8,
   "metadata": {},
   "outputs": [
    {
     "name": "stdout",
     "output_type": "stream",
     "text": [
      "False\n"
     ]
    }
   ],
   "source": [
    "spam = input(\"spam = \")\n",
    "\n",
    "countO = spam.count('o')\n",
    "countX = spam.count('x')\n",
    "\n",
    "if countO == countX :\n",
    "    print(True)\n",
    "else:\n",
    "    print(False)"
   ]
  },
  {
   "cell_type": "code",
   "execution_count": 14,
   "metadata": {},
   "outputs": [
    {
     "name": "stdout",
     "output_type": "stream",
     "text": [
      "153 is a narcissistic number\n"
     ]
    }
   ],
   "source": [
    "spam = input(\"spam = \")\n",
    "total = int(spam)\n",
    "calc = 0\n",
    "\n",
    "for number in spam:\n",
    "    calc += (int(number)**len(spam))\n",
    "if calc == total:\n",
    "    print(f\"{spam} is a narcissistic number\")\n",
    "else:\n",
    "    print(f\"{spam} is not a narcissistic number\")"
   ]
  },
  {
   "cell_type": "code",
   "execution_count": 65,
   "metadata": {},
   "outputs": [
    {
     "ename": "SystemExit",
     "evalue": "Program has quit.",
     "output_type": "error",
     "traceback": [
      "An exception has occurred, use %tb to see the full traceback.\n",
      "\u001b[1;31mSystemExit\u001b[0m\u001b[1;31m:\u001b[0m Program has quit.\n"
     ]
    },
    {
     "name": "stderr",
     "output_type": "stream",
     "text": [
      "C:\\Users\\Elroy\\AppData\\Roaming\\Python\\Python311\\site-packages\\IPython\\core\\interactiveshell.py:3516: UserWarning: To exit: use 'exit', 'quit', or Ctrl-D.\n",
      "  warn(\"To exit: use 'exit', 'quit', or Ctrl-D.\", stacklevel=1)\n"
     ]
    }
   ],
   "source": [
    "import sys\n",
    "\n",
    "resultString = ''\n",
    "quit = \"QUIT\"\n",
    "upTo = input(\"Enter a number (greater than 0) or QUIT: \")\n",
    "convertedUpTo = int(upTo)\n",
    "while upTo.isdigit() == False:\n",
    "    if upTo == quit:\n",
    "        sys.exit(\"Program has quit.\")\n",
    "    else:\n",
    "        upTo = input(\"Enter a number (greater than 0) or QUIT: \")\n",
    "if (int(upTo) > 0) :\n",
    "    for number in range(int(upTo)):\n",
    "        convertedNumber = int(number)\n",
    "        if ((convertedNumber + 1) % 3 == 0) and ((convertedNumber+ 1) % 5 == 0) == True:\n",
    "            resultString += 'FizzBuzz '\n",
    "        elif ((convertedNumber + 1) % 3 == 0) == True:\n",
    "            resultString += 'Fizz '\n",
    "        elif ((convertedNumber + 1) % 5 == 0) == True:\n",
    "            resultString += 'Buzz '\n",
    "        else:\n",
    "            resultString += str(int(number) + 1) + ' '\n",
    "while int(upTo) <= 0:\n",
    "    upTo = input(\"Enter a number (greater than 0) or QUIT: \")\n",
    "print(resultString)\n"
   ]
  },
  {
   "cell_type": "code",
   "execution_count": 21,
   "metadata": {},
   "outputs": [
    {
     "name": "stdout",
     "output_type": "stream",
     "text": [
      "DDDog Fox fox oFX DOOOOG \n"
     ]
    }
   ],
   "source": [
    "text = input(\"text = \")\n",
    "oldText = input(\"oldText = \")\n",
    "newText = input(\"newText = \")\n",
    "\n",
    "output = text.replace(oldText, newText)\n",
    "print(output)"
   ]
  },
  {
   "cell_type": "code",
   "execution_count": 9,
   "metadata": {},
   "outputs": [
    {
     "name": "stdout",
     "output_type": "stream",
     "text": [
      "5, 16, 8, 4, 2, 1\n"
     ]
    }
   ],
   "source": [
    "import sys\n",
    "\n",
    "number = input(\"Enter a starting number(greater than 0) or QUIT: \")\n",
    "resultNumbers = \"\"\n",
    "quit = \"QUIT\"\n",
    "\n",
    "while number.isdigit() == False:\n",
    "    if number.upper() == quit:\n",
    "        sys.exit(\"Program has quit.\")\n",
    "    else:\n",
    "        number = input(\"Enter a starting number(greater than 0) or QUIT: \")\n",
    "\n",
    "convertNumber = int(number)\n",
    "\n",
    "if convertNumber > 0:\n",
    "    resultNumbers += str(convertNumber)\n",
    "    while convertNumber > 1:\n",
    "        if convertNumber % 2 > 0:\n",
    "            convertNumber = int(convertNumber*3 + 1) \n",
    "            resultNumbers += \", \" + str(convertNumber)\n",
    "        else : \n",
    "            convertNumber = int(convertNumber / 2)\n",
    "            resultNumbers += \", \" + str(convertNumber)\n",
    "    print(resultNumbers)\n",
    "while convertNumber <= 0:\n",
    "    number = input(\"Enter a starting number(greater than 0) or QUIT: \")"
   ]
  },
  {
   "cell_type": "code",
   "execution_count": 1,
   "metadata": {},
   "outputs": [
    {
     "name": "stdout",
     "output_type": "stream",
     "text": [
      "0, 1, 1, 2, 3, 5, 8, 13, 21, 34, 55, 89, 144, 233, 377, 610, 987, 1597, 2584, 4181, 6765, 10946, 17711, 28657, 46368, 75025, 121393, 196418, 317811, 514229, 832040, 1346269, 2178309, 3524578, 5702887\n"
     ]
    }
   ],
   "source": [
    "import sys\n",
    "\n",
    "#defining vars\n",
    "initialNum = input(\"Enter the Nth Fibbonaci number you wish to calculate or QUIT to quit: \")\n",
    "quit = \"QUIT\"\n",
    "counter = 2\n",
    "n1 = 0\n",
    "n2 = 1\n",
    "next_number = 1\n",
    "sequence = '0, 1'\n",
    "\n",
    "#awful quit check\n",
    "while initialNum.isdigit() == False:\n",
    "    if initialNum.upper() == quit:\n",
    "        sys.exit(\"Program has quit.\")\n",
    "    else:\n",
    "        initialNum = input(\"Enter the Nth Fibonacci number you wish to calculate or QUIT to quit: \")\n",
    "if int(initialNum) >= 100:\n",
    "    print(\"It may take some time for the output to finish displaying on the screen.\") \n",
    "while counter < int(initialNum):\n",
    "    next_number = n1+n2\n",
    "    n1 = n2\n",
    "    n2 = next_number\n",
    "    counter += 1    \n",
    "    sequence += \", \" + str(next_number)\n",
    "if int(initialNum) > 2:\n",
    "    print(sequence)\n",
    "elif int(initialNum) == 2:\n",
    "    print('0, 1')\n",
    "else:\n",
    "    print(\"0\")\n",
    "#valid number check\n",
    "while int(initialNum) <= 0:\n",
    "    initialNum = input(\"Enter the Nth Fibonacci number you wish to calculate or QUIT to quit: \")\n"
   ]
  },
  {
   "cell_type": "code",
   "execution_count": 3,
   "metadata": {},
   "outputs": [
    {
     "name": "stdout",
     "output_type": "stream",
     "text": [
      "Key #0: QIIX QI FC XLI VSWI FYWLIW XSRMKLX\n",
      "Key #1: PHHW PH EB WKH URVH EXVKHV WRQLJKW\n",
      "Key #2: OGGV OG DA VJG TQUG DWUJGU VQPKIJV\n",
      "Key #3: NFFU NF CZ UIF SPTF CVTIFT UPOJHIU\n",
      "Key #4: MEET ME BY THE ROSE BUSHES TONIGHT\n",
      "Key #5: LDDS LD AX SGD QNRD ATRGDR SNMHFGS\n",
      "Key #6: KCCR KC ZW RFC PMQC ZSQFCQ RMLGEFR\n",
      "Key #7: JBBQ JB YV QEB OLPB YRPEBP QLKFDEQ\n",
      "Key #8: IAAP IA XU PDA NKOA XQODAO PKJECDP\n",
      "Key #9: HZZO HZ WT OCZ MJNZ WPNCZN OJIDBCO\n",
      "Key #10: GYYN GY VS NBY LIMY VOMBYM NIHCABN\n",
      "Key #11: FXXM FX UR MAX KHLX UNLAXL MHGBZAM\n",
      "Key #12: EWWL EW TQ LZW JGKW TMKZWK LGFAYZL\n",
      "Key #13: DVVK DV SP KYV IFJV SLJYVJ KFEZXYK\n",
      "Key #14: CUUJ CU RO JXU HEIU RKIXUI JEDYWXJ\n",
      "Key #15: BTTI BT QN IWT GDHT QJHWTH IDCXVWI\n",
      "Key #16: ASSH AS PM HVS FCGS PIGVSG HCBWUVH\n",
      "Key #17: ZRRG ZR OL GUR EBFR OHFURF GBAVTUG\n",
      "Key #18: YQQF YQ NK FTQ DAEQ NGETQE FAZUSTF\n",
      "Key #19: XPPE XP MJ ESP CZDP MFDSPD EZYTRSE\n",
      "Key #20: WOOD WO LI DRO BYCO LECROC DYXSQRD\n",
      "Key #21: VNNC VN KH CQN AXBN KDBQNB CXWRPQC\n",
      "Key #22: UMMB UM JG BPM ZWAM JCAPMA BWVQOPB\n",
      "Key #23: TLLA TL IF AOL YVZL IBZOLZ AVUPNOA\n",
      "Key #24: SKKZ SK HE ZNK XUYK HAYNKY ZUTOMNZ\n",
      "Key #25: RJJY RJ GD YMJ WTXJ GZXMJX YTSNLMY\n"
     ]
    }
   ],
   "source": [
    "encrypted = input(\"Enter the message to hack: \")\n",
    "cleanEncrypted = encrypted.upper()\n",
    "alphabet = 'ABCDEFGHIJKLMNOPQRSTUVWXYZ'\n",
    "\n",
    "#key = jumlah shiftnya huruf dari yg awal ke yg encrypt\n",
    "for key in range(len(alphabet)):\n",
    "    output = ''\n",
    "    #lewati setiap huruf di message encrypted\n",
    "    for char in cleanEncrypted:\n",
    "        #jika huruf di dalam alphabet, cari indexnya di dalam alphabet terus dikurangi shiftnya\n",
    "        if char in alphabet:\n",
    "            index = alphabet.find(char)\n",
    "            index -= key\n",
    "        #asuransi jika negatif dapat dipakai?\n",
    "            if index < 0:\n",
    "                index += len(alphabet)\n",
    "        #hasil print ditambah huruf didecrypt  \n",
    "            output += alphabet[index]\n",
    "        else:\n",
    "            output += char\n",
    "\n",
    "    print(f'Key #{key}: {output}')"
   ]
  }
 ],
 "metadata": {
  "kernelspec": {
   "display_name": "Python 3",
   "language": "python",
   "name": "python3"
  },
  "language_info": {
   "codemirror_mode": {
    "name": "ipython",
    "version": 3
   },
   "file_extension": ".py",
   "mimetype": "text/x-python",
   "name": "python",
   "nbconvert_exporter": "python",
   "pygments_lexer": "ipython3",
   "version": "3.11.4"
  },
  "orig_nbformat": 4
 },
 "nbformat": 4,
 "nbformat_minor": 2
}
