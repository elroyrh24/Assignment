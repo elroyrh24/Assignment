{
 "cells": [
  {
   "cell_type": "code",
   "execution_count": 15,
   "metadata": {},
   "outputs": [
    {
     "name": "stdout",
     "output_type": "stream",
     "text": [
      "Angka 4 tergolong bilangan GENAP!\n"
     ]
    }
   ],
   "source": [
    "angka = int(input(\"Masukkan angka: \"))\n",
    "\n",
    "if ( angka % 2 ) ==  0:\n",
    "    print(f\"Angka {angka} tergolong bilangan GENAP!\")\n",
    "else:\n",
    "    print(f\"Angka {angka} tergolong bilangan GANJIL!\")"
   ]
  },
  {
   "cell_type": "code",
   "execution_count": 30,
   "metadata": {},
   "outputs": [
    {
     "name": "stdout",
     "output_type": "stream",
     "text": [
      "Massa 1 kg dan tinggi 1.78 m\n",
      "IMT = 0.3156167150612296, BERAT BADAN KURANG!\n"
     ]
    }
   ],
   "source": [
    "massa = int(input(\"Masukkan Massa (kg): \"))\n",
    "tinggi = int(input(\"Masukkan Tinggi (cm): \"))\n",
    "mTinggi = tinggi / 100\n",
    "print(f\"Massa {massa} kg dan tinggi {mTinggi} m\")\n",
    "\n",
    "#Cari IMT\n",
    "IMT = massa / (mTinggi ** 2)\n",
    "if IMT < 18.5:\n",
    "    print(f\"IMT = {IMT}, BERAT BADAN KURANG!\")\n",
    "elif IMT < 25:\n",
    "    print(f\"IMT = {IMT}, BERAT BADAN IDEAL!\")\n",
    "elif IMT < 30:\n",
    "    print(f\"IMT = {IMT}, BERAT BADAN BERLEBIH!\")\n",
    "elif IMT < 40:\n",
    "    print(f\"IMT = {IMT}, BERAT BADAN SANGAT BERLEBIH!\")\n",
    "else:\n",
    "    print(f\"IMT = {IMT}, BERAT BADAN OBESITAS!\")\n"
   ]
  },
  {
   "cell_type": "code",
   "execution_count": 42,
   "metadata": {},
   "outputs": [
    {
     "name": "stdout",
     "output_type": "stream",
     "text": [
      "*****\n",
      "****\n",
      "***\n",
      "**\n",
      "*\n",
      "**\n",
      "***\n",
      "****\n",
      "*****\n"
     ]
    }
   ],
   "source": [
    "import math\n",
    "\n",
    "height = int(input(\"Tinggi bentuk (harus ganjil): \"))\n",
    "\n",
    "midpointHeight = math.ceil(height / 2)\n",
    "Length = midpointHeight\n",
    "shapeLine = \"\"\n",
    "\n",
    "while Length > 1:\n",
    "    shapeLine += '*' * Length\n",
    "    print(shapeLine)\n",
    "    shapeLine = ''\n",
    "    Length -= 1\n",
    "while Length < (midpointHeight + 1):\n",
    "    shapeLine += '*' * Length\n",
    "    print(shapeLine)\n",
    "    shapeLine = \"\"\n",
    "    Length += 1\n",
    "    "
   ]
  },
  {
   "cell_type": "code",
   "execution_count": 79,
   "metadata": {},
   "outputs": [
    {
     "name": "stdout",
     "output_type": "stream",
     "text": [
      "    *    \n",
      "   ***   \n",
      "  *****  \n",
      " ******* \n",
      "*********\n",
      " ******* \n",
      "  *****  \n",
      "   ***   \n",
      "    *    \n"
     ]
    }
   ],
   "source": [
    "import math\n",
    "\n",
    "bintang = \"\"\n",
    "tinggi = 9\n",
    "tengah = math.floor(tinggi / 2)\n",
    "jumlahBintang = tinggi - (tengah*2)\n",
    "\n",
    "while jumlahBintang < 9:\n",
    "    shapeLine += ' ' * tengah\n",
    "    shapeLine += '*' * jumlahBintang\n",
    "    shapeLine += ' ' * tengah\n",
    "    print(shapeLine)\n",
    "    shapeLine = ''\n",
    "    tengah -= 1\n",
    "    jumlahBintang = tinggi - (tengah*2)\n",
    "while jumlahBintang > 0:\n",
    "    shapeLine += ' ' * tengah\n",
    "    shapeLine += '*' * jumlahBintang\n",
    "    shapeLine += ' ' * tengah\n",
    "    print(shapeLine)\n",
    "    shapeLine = ''\n",
    "    tengah += 1\n",
    "    jumlahBintang = tinggi - (tengah*2)\n"
   ]
  }
 ],
 "metadata": {
  "kernelspec": {
   "display_name": "Python 3",
   "language": "python",
   "name": "python3"
  },
  "language_info": {
   "codemirror_mode": {
    "name": "ipython",
    "version": 3
   },
   "file_extension": ".py",
   "mimetype": "text/x-python",
   "name": "python",
   "nbconvert_exporter": "python",
   "pygments_lexer": "ipython3",
   "version": "3.11.4"
  },
  "orig_nbformat": 4
 },
 "nbformat": 4,
 "nbformat_minor": 2
}
