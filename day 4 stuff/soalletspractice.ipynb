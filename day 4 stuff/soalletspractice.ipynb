{
 "cells": [
  {
   "cell_type": "code",
   "execution_count": 49,
   "metadata": {},
   "outputs": [],
   "source": [
    "def factorial(num):\n",
    "    if num == 0:\n",
    "        return 1\n",
    "    if num < 0:\n",
    "        return None\n",
    "    else:\n",
    "        return num * factorial(num-1)\n",
    "    \n",
    "assert factorial(0) == 1\n",
    "assert factorial(3) == 6\n",
    "assert factorial(10) == 3628800\n",
    "assert factorial(-10) == None"
   ]
  },
  {
   "cell_type": "code",
   "execution_count": 54,
   "metadata": {},
   "outputs": [],
   "source": [
    "def timeConvert(totalSeconds):\n",
    "    if totalSeconds == 0:\n",
    "        return '0s'\n",
    "    result = []\n",
    "    hours = 0\n",
    "    minute = 0\n",
    "    if totalSeconds > 3599:\n",
    "        hours = totalSeconds // 3600\n",
    "    if totalSeconds > 59:\n",
    "        minute = (totalSeconds - (hours * 3600)) // 60\n",
    "    seconds = totalSeconds - (hours * 3600) - (minute * 60)\n",
    "    if hours > 0:\n",
    "        result.append(f\"{hours}h\")\n",
    "    if minute > 0:\n",
    "        result.append(f\"{minute}m\")\n",
    "    if seconds > 0:\n",
    "        result.append(f\"{seconds}s\")\n",
    "    return ' '.join(result)\n",
    "\n",
    "assert timeConvert(0) == '0s'\n",
    "assert timeConvert(30) == '30s'\n",
    "assert timeConvert(60) == '1m'\n",
    "assert timeConvert(90) == '1m 30s'\n",
    "assert timeConvert(3600) == '1h'\n",
    "assert timeConvert(3601) == '1h 1s'\n",
    "assert timeConvert(3661) == '1h 1m 1s'\n",
    "assert timeConvert(90042) == '25h 42s'"
   ]
  },
  {
   "cell_type": "code",
   "execution_count": 53,
   "metadata": {},
   "outputs": [],
   "source": [
    "def area(l, w):\n",
    "    return l * w\n",
    "def volume(l, w, h):\n",
    "    return l*w*h\n",
    "\n",
    "assert area(10, 10) == 100\n",
    "assert area(0, 9999) == 0\n",
    "assert volume(10, 10, 10) == 1000\n",
    "assert volume(5, 8, 10) == 400"
   ]
  },
  {
   "cell_type": "code",
   "execution_count": 52,
   "metadata": {},
   "outputs": [],
   "source": [
    "def getColor(column, row):\n",
    "    if ((column < 1) or (column > 8 )) or ((row < 1) or (row > 8)):\n",
    "        return ''\n",
    "    else:\n",
    "        if ( column + row ) % 2 == 0:\n",
    "            return 'white'\n",
    "        else:\n",
    "            return 'black'\n",
    "    \n",
    "assert getColor(1, 1) == 'white'\n",
    "assert getColor(2, 1) == 'black'\n",
    "assert getColor(1, 2) == 'black'\n",
    "assert getColor(8, 8) == 'white'\n",
    "assert getColor(0, 8) == ''\n",
    "assert getColor(2, 9) == ''"
   ]
  },
  {
   "cell_type": "code",
   "execution_count": 56,
   "metadata": {},
   "outputs": [
    {
     "data": {
      "text/plain": [
       "'QIIX QI FC XLI VSWI FYWLIW XSRMKLX.'"
      ]
     },
     "execution_count": 56,
     "metadata": {},
     "output_type": "execute_result"
    }
   ],
   "source": [
    "\n",
    "key = 4\n",
    "\n",
    "alphabet = 'ABCDEFGHIJKLMNOPQRSTUVWXYZ'\n",
    "lower_alphabet = 'abcdefghijklmnopqrstuvwxyz'\n",
    "def encrypthor(message):\n",
    "    messageU = message.upper()\n",
    "    output = ''\n",
    "    for character in messageU:\n",
    "        if character in alphabet:\n",
    "            index = alphabet.find(character)\n",
    "            index += key\n",
    "            if index > len(alphabet):\n",
    "                index -= len(alphabet)\n",
    "            output += alphabet[index]\n",
    "        else:\n",
    "            output += character\n",
    "    return output\n",
    "    \n",
    "encrypthor('Meet me by the rose bushes tonight.')"
   ]
  },
  {
   "cell_type": "code",
   "execution_count": 50,
   "metadata": {},
   "outputs": [],
   "source": [
    "def isLeapYear(year):\n",
    "    if year % 4 == 0:\n",
    "        if year % 100 == 0:\n",
    "            if year % 400 == 0:\n",
    "                return True\n",
    "            else:\n",
    "                return False\n",
    "            return False\n",
    "        else:\n",
    "            return True\n",
    "        return True\n",
    "    else:\n",
    "        return False\n",
    "    \n",
    "assert isLeapYear(1999) == False\n",
    "assert isLeapYear(2000) == True\n",
    "assert isLeapYear(2001) == False\n",
    "assert isLeapYear(2004) == True\n",
    "assert isLeapYear(2100) == False\n",
    "assert isLeapYear(2400) == True"
   ]
  },
  {
   "cell_type": "markdown",
   "metadata": {},
   "source": [
    "SOAL 7"
   ]
  },
  {
   "cell_type": "code",
   "execution_count": 3,
   "metadata": {},
   "outputs": [],
   "source": [
    "def isValidDate(year, month, day):\n",
    "    if len(str(month)) > 2 or len(str(day)) > 2:\n",
    "        return False\n",
    "    if month > 12 or month < 1:\n",
    "        return False\n",
    "    if day > 31 or day < 1:\n",
    "        return False\n",
    "    if month == 2:\n",
    "        if day > 28:\n",
    "            return False\n",
    "        else:\n",
    "            return True\n",
    "    if month < 8:\n",
    "        if month % 2 == 0:\n",
    "            if day > 30:\n",
    "                return False\n",
    "            else:\n",
    "                return True\n",
    "        else:\n",
    "            if day > 31:\n",
    "                return False\n",
    "            else:\n",
    "                return True\n",
    "    if month >= 8:\n",
    "        if month % 2 == 0:\n",
    "            if day > 31:\n",
    "                return False\n",
    "            else:\n",
    "                return True\n",
    "        else:\n",
    "            if day > 30:\n",
    "                return False\n",
    "            else:\n",
    "                return True\n",
    "    \n",
    "assert isValidDate(2001, 2, 29) == False\n",
    "assert isValidDate(2029, 13, 1) == False\n",
    "assert isValidDate(1000000, 1, 1) == True\n",
    "assert isValidDate(2015, 4, 31) == False\n"
   ]
  },
  {
   "cell_type": "markdown",
   "metadata": {},
   "source": [
    "SOAL 8"
   ]
  },
  {
   "cell_type": "code",
   "execution_count": 81,
   "metadata": {},
   "outputs": [],
   "source": [
    "def commaFormat(num):\n",
    "    res = ''\n",
    "    check = str(num)\n",
    "    over0check = 0\n",
    "    if '.' not in check:\n",
    "        res = f'{num:,}'\n",
    "        return res\n",
    "    else:\n",
    "        for n in check:\n",
    "            if n == '.':\n",
    "                break\n",
    "            res += n\n",
    "        res = f'{num:,}'\n",
    "        return res\n",
    "\n",
    "assert commaFormat(1) == '1'\n",
    "assert commaFormat(10) == '10'\n",
    "assert commaFormat(100) == '100'\n",
    "assert commaFormat(1000) == '1,000'\n",
    "assert commaFormat(10000) == '10,000'\n",
    "assert commaFormat(100000) == '100,000'\n",
    "assert commaFormat(1000000) == '1,000,000'\n",
    "assert commaFormat(1234567890) == '1,234,567,890'\n",
    "assert commaFormat(1000.123456) == '1,000.123456'"
   ]
  }
 ],
 "metadata": {
  "kernelspec": {
   "display_name": "Python 3",
   "language": "python",
   "name": "python3"
  },
  "language_info": {
   "codemirror_mode": {
    "name": "ipython",
    "version": 3
   },
   "file_extension": ".py",
   "mimetype": "text/x-python",
   "name": "python",
   "nbconvert_exporter": "python",
   "pygments_lexer": "ipython3",
   "version": "3.11.4"
  },
  "orig_nbformat": 4
 },
 "nbformat": 4,
 "nbformat_minor": 2
}
